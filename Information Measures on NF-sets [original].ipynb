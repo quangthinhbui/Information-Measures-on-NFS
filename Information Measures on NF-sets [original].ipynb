{
 "cells": [
  {
   "cell_type": "markdown",
   "metadata": {},
   "source": [
    "# Input"
   ]
  },
  {
   "cell_type": "code",
   "execution_count": 1,
   "metadata": {},
   "outputs": [
    {
     "name": "stdout",
     "output_type": "stream",
     "text": [
      "[[[0.4  0.7  0.4  0.3 ]\n",
      "  [0.3  0.27 0.4  0.7 ]\n",
      "  [0.7  0.5  0.1  0.2 ]\n",
      "  [0.6  0.5  0.9  0.4 ]\n",
      "  [0.2  0.2  0.3  0.8 ]]\n",
      "\n",
      " [[0.6  0.5  0.8  0.2 ]\n",
      "  [0.25 0.15 0.36 0.78]\n",
      "  [0.8  0.9  0.   0.2 ]\n",
      "  [0.7  0.6  0.96 0.45]\n",
      "  [0.3  0.3  0.5  0.75]]\n",
      "\n",
      " [[0.3  0.9  0.1  0.1 ]\n",
      "  [0.6  0.3  0.6  0.9 ]\n",
      "  [0.65 0.25 0.4  0.5 ]\n",
      "  [0.76 0.72 0.85 0.3 ]\n",
      "  [0.35 0.3  0.45 0.87]]\n",
      "\n",
      " [[0.5  0.8  0.6  0.3 ]\n",
      "  [0.1  0.1  0.8  0.2 ]\n",
      "  [0.84 1.   0.5  0.  ]\n",
      "  [0.65 0.57 0.8  0.35]\n",
      "  [0.1  0.1  0.8  0.6 ]]\n",
      "\n",
      " [[0.7  0.65 0.2  0.8 ]\n",
      "  [0.2  0.2  0.45 0.65]\n",
      "  [0.5  0.7  0.4  0.6 ]\n",
      "  [0.5  0.4  0.7  0.6 ]\n",
      "  [0.8  0.7  0.2  0.3 ]]]\n"
     ]
    }
   ],
   "source": [
    "from nfs import *\n",
    "\n",
    "ip = nfs(\"original.txt\")\n",
    "print(np.array(ip))"
   ]
  },
  {
   "cell_type": "markdown",
   "metadata": {},
   "source": [
    "# NF-matrix to RNF-matrix"
   ]
  },
  {
   "cell_type": "code",
   "execution_count": 2,
   "metadata": {},
   "outputs": [
    {
     "name": "stdout",
     "output_type": "stream",
     "text": [
      "[[[0.4  0.7  0.4  0.3 ]\n",
      "  [0.3  0.27 0.4  0.7 ]\n",
      "  [0.7  0.5  0.1  0.2 ]\n",
      "  [0.6  0.5  0.9  0.4 ]\n",
      "  [0.2  0.2  0.3  0.8 ]]\n",
      "\n",
      " [[0.6  0.5  0.8  0.2 ]\n",
      "  [0.25 0.15 0.36 0.78]\n",
      "  [0.8  0.9  0.   0.2 ]\n",
      "  [0.7  0.6  0.96 0.45]\n",
      "  [0.3  0.3  0.5  0.75]]\n",
      "\n",
      " [[0.3  0.9  0.1  0.1 ]\n",
      "  [0.6  0.3  0.6  0.9 ]\n",
      "  [0.65 0.25 0.4  0.5 ]\n",
      "  [0.76 0.72 0.85 0.3 ]\n",
      "  [0.35 0.3  0.45 0.87]]\n",
      "\n",
      " [[0.5  0.8  0.6  0.3 ]\n",
      "  [0.1  0.1  0.8  0.2 ]\n",
      "  [0.84 1.   0.5  0.  ]\n",
      "  [0.65 0.57 0.8  0.35]\n",
      "  [0.1  0.1  0.8  0.6 ]]\n",
      "\n",
      " [[0.7  0.65 0.2  0.8 ]\n",
      "  [0.2  0.2  0.45 0.65]\n",
      "  [0.5  0.7  0.4  0.6 ]\n",
      "  [0.5  0.4  0.7  0.6 ]\n",
      "  [0.8  0.7  0.2  0.3 ]]]\n"
     ]
    }
   ],
   "source": [
    "cost = []\n",
    "mat = rnf(ip,cost)\n",
    "print(np.array(mat))"
   ]
  },
  {
   "cell_type": "markdown",
   "metadata": {},
   "source": [
    "# Entropy"
   ]
  },
  {
   "cell_type": "code",
   "execution_count": 3,
   "metadata": {},
   "outputs": [
    {
     "name": "stdout",
     "output_type": "stream",
     "text": [
      "[0.78870882 0.69901446 0.72959065 0.62976101 0.82821935]\n",
      "[0.607 0.532 0.55  0.479 0.645]\n",
      "[0.68173625 0.60748479 0.62518711 0.55528432 0.71356749]\n",
      "[0.52515094 0.45371493 0.47158131 0.40423878 0.56856538]\n",
      "[0.49073356 0.42006455 0.43797347 0.3714053  0.53685964]\n",
      "[0.42794469 0.35055066 0.36927863 0.29501779 0.48165465]\n",
      "[0.80639212 0.72162161 0.73995576 0.65859088 0.83051186]\n",
      "[0.6790253  0.60722672 0.62466779 0.55747922 0.71054108]\n",
      "[0.52003583 0.45093598 0.46854316 0.40371014 0.56284661]\n"
     ]
    }
   ],
   "source": [
    "for i in range(9):\n",
    "    print(np.array(ej(mat,i)))"
   ]
  },
  {
   "cell_type": "markdown",
   "metadata": {},
   "source": [
    "# Cross Entropy"
   ]
  },
  {
   "cell_type": "code",
   "execution_count": 4,
   "metadata": {},
   "outputs": [
    {
     "name": "stdout",
     "output_type": "stream",
     "text": [
      "[0.12324884 0.18829548 0.16846876 0.17695318 0.0930928 ]\n",
      "[0.2915 0.3685 0.3405 0.334  0.25  ]\n",
      "[0.22936715 0.29912752 0.27395359 0.26992296 0.19458972]\n",
      "[0.36518969 0.44434435 0.41524225 0.40647125 0.31829785]\n",
      "[0.39482079 0.47616232 0.44613207 0.43621005 0.34505059]\n",
      "[0.43762672 0.53452305 0.49882504 0.48574808 0.37862387]\n",
      "[0.11263398 0.18421119 0.15906209 0.15861623 0.08516878]\n",
      "[0.23426188 0.30150189 0.27717041 0.27313153 0.20003316]\n",
      "[0.37309458 0.44915817 0.42113227 0.41259932 0.32720945]\n"
     ]
    }
   ],
   "source": [
    "for i in range(9):\n",
    "    print(np.array(cj(mat,i)))"
   ]
  },
  {
   "cell_type": "markdown",
   "metadata": {},
   "source": [
    "# Weight"
   ]
  },
  {
   "cell_type": "code",
   "execution_count": 5,
   "metadata": {
    "scrolled": false
   },
   "outputs": [
    {
     "name": "stdout",
     "output_type": "stream",
     "text": [
      "[0.16124239 0.23582482 0.2115315  0.26373697 0.12766433]\n",
      "1.0\n",
      "[0.18149277 0.22179504 0.2095983  0.22670025 0.16041363]\n",
      "1.0\n",
      "[0.17758885 0.22428982 0.21038567 0.23174706 0.15598861]\n",
      "1.0000000000000002\n",
      "[0.18559085 0.21886104 0.20848423 0.22142452 0.16563936]\n",
      "1.0\n",
      "[0.18674321 0.21814166 0.20823961 0.21994012 0.16693541]\n",
      "1.0\n",
      "[0.18660148 0.21881246 0.20875387 0.2200614  0.16577079]\n",
      "0.9999999999999999\n",
      "[0.15764373 0.23812664 0.21574282 0.2573974  0.13108941]\n",
      "0.9999999999999999\n",
      "[0.17869592 0.22344374 0.20999977 0.2303237  0.15753688]\n",
      "0.9999999999999999\n",
      "[0.18637448 0.21808948 0.20811967 0.22041999 0.16699639]\n",
      "1.0\n"
     ]
    }
   ],
   "source": [
    "for i in range(9):\n",
    "    print(np.array(w(mat,i)))\n",
    "    print(sum(w(mat,i)))"
   ]
  },
  {
   "cell_type": "markdown",
   "metadata": {},
   "source": [
    "# Ranking"
   ]
  },
  {
   "cell_type": "code",
   "execution_count": 6,
   "metadata": {},
   "outputs": [
    {
     "name": "stdout",
     "output_type": "stream",
     "text": [
      "[0.79636905 0.49469131 0.87081051 0.68865042 0.52334584]\n",
      "[0.61279995 0.33006794 0.70797428 0.49004375 0.36918269]\n",
      "[0.68797123 0.41093477 0.76775089 0.57489176 0.44022182]\n",
      "[0.53005828 0.26063122 0.63822758 0.40586308 0.30650049]\n",
      "[0.49527713 0.22815122 0.61017964 0.36879027 0.27736318]\n",
      "[0.4325009  0.13236475 0.56751909 0.28416561 0.19476273]\n",
      "[0.81447775 0.49274223 0.87774891 0.69831592 0.5057163 ]\n",
      "[0.68497347 0.41871401 0.7636664  0.57593781 0.44712958]\n",
      "[0.52476155 0.26561432 0.63107293 0.40521755 0.30995032]\n"
     ]
    }
   ],
   "source": [
    "for i in range(9):\n",
    "    print(np.array(Spos(mat,i)))"
   ]
  },
  {
   "cell_type": "code",
   "execution_count": 7,
   "metadata": {},
   "outputs": [
    {
     "name": "stdout",
     "output_type": "stream",
     "text": [
      "[0.56832835 0.84315516 0.42819419 0.69738847 0.82611503]\n",
      "[0.38720005 0.66993206 0.29202572 0.50995625 0.63081731]\n",
      "[0.4699158  0.73989147 0.35810354 0.59267215 0.69857525]\n",
      "[0.31200778 0.58840902 0.23492876 0.4266349  0.55451807]\n",
      "[0.2776209  0.55515637 0.20809847 0.38992589 0.52357747]\n",
      "[0.185288   0.50428178 0.12955535 0.30820234 0.47288327]\n",
      "[0.56727659 0.86933391 0.41611248 0.70991792 0.82492859]\n",
      "[0.4752099  0.7348738  0.36541044 0.59341702 0.69484951]\n",
      "[0.31501053 0.58067606 0.23891135 0.42548413 0.54790196]\n"
     ]
    }
   ],
   "source": [
    "for i in range(9):\n",
    "    print(np.array(Sneg(mat,i)))"
   ]
  },
  {
   "cell_type": "code",
   "execution_count": 8,
   "metadata": {},
   "outputs": [
    {
     "name": "stdout",
     "output_type": "stream",
     "text": [
      "[0.58354992 0.36976687 0.67036748 0.49684783 0.38781846]\n",
      "[0.61279995 0.33006794 0.70797428 0.49004375 0.36918269]\n",
      "[0.59416092 0.35707803 0.68192731 0.49238569 0.3865674 ]\n",
      "[0.62947351 0.30697158 0.73094308 0.4875244  0.35597431]\n",
      "[0.64080527 0.29126645 0.74568736 0.48607146 0.3462968 ]\n",
      "[0.70007878 0.20790933 0.81414416 0.47971132 0.29171556]\n",
      "[0.58945192 0.36175821 0.67839486 0.49588065 0.38005354]\n",
      "[0.59040104 0.36296674 0.67636354 0.49252613 0.3915392 ]\n",
      "[0.62488568 0.31385719 0.72538429 0.48780153 0.36130966]\n"
     ]
    }
   ],
   "source": [
    "visual = []\n",
    "for i in range(9):\n",
    "    print(np.array(S(mat,i)))\n",
    "    visual.append(S(mat,i))"
   ]
  },
  {
   "cell_type": "markdown",
   "metadata": {},
   "source": [
    "# Result"
   ]
  },
  {
   "cell_type": "code",
   "execution_count": 9,
   "metadata": {},
   "outputs": [
    {
     "name": "stdout",
     "output_type": "stream",
     "text": [
      "Similarity no. 1 : [2 5 4 1 3]\n",
      "Similarity no. 2 : [2 5 4 1 3]\n",
      "Similarity no. 3 : [2 5 4 1 3]\n",
      "Similarity no. 4 : [2 5 4 1 3]\n",
      "Similarity no. 5 : [2 5 4 1 3]\n",
      "Similarity no. 6 : [2 5 4 1 3]\n",
      "Similarity no. 7 : [2 5 4 1 3]\n",
      "Similarity no. 8 : [2 5 4 1 3]\n",
      "Similarity no. 9 : [2 5 4 1 3]\n"
     ]
    }
   ],
   "source": [
    "for i in range(9):\n",
    "    print(\"Similarity no.\",i+1,\":\",np.array(rank(mat,i)))"
   ]
  },
  {
   "cell_type": "code",
   "execution_count": 10,
   "metadata": {},
   "outputs": [
    {
     "name": "stdout",
     "output_type": "stream",
     "text": [
      "Similarity no. 1 : 3\n",
      "Similarity no. 2 : 3\n",
      "Similarity no. 3 : 3\n",
      "Similarity no. 4 : 3\n",
      "Similarity no. 5 : 3\n",
      "Similarity no. 6 : 3\n",
      "Similarity no. 7 : 3\n",
      "Similarity no. 8 : 3\n",
      "Similarity no. 9 : 3\n"
     ]
    }
   ],
   "source": [
    " for i in range(9):\n",
    "    print(\"Similarity no.\",i+1,\":\",alt(mat,i))"
   ]
  },
  {
   "cell_type": "markdown",
   "metadata": {},
   "source": [
    "# Visualization"
   ]
  },
  {
   "cell_type": "code",
   "execution_count": 11,
   "metadata": {},
   "outputs": [
    {
     "name": "stderr",
     "output_type": "stream",
     "text": [
      "The PostScript backend does not support transparency; partially transparent artists will be rendered opaque.\n",
      "The PostScript backend does not support transparency; partially transparent artists will be rendered opaque.\n"
     ]
    },
    {
     "data": {
      "image/png": "[encoded data removed]",
      "text/plain": [
       "<Figure size 720x360 with 1 Axes>"
      ]
     },
     "metadata": {
      "needs_background": "light"
     },
     "output_type": "display_data"
    }
   ],
   "source": [
    "import matplotlib.pyplot as plt\n",
    "xaxis = [1,2,3,4,5,6,7,8,9]\n",
    "plt.plot(xaxis,[visual[i][0] for i in range(9)],\n",
    "         'go-', color='blue', label='I1', marker='o')\n",
    "plt.plot(xaxis,[visual[i][1] for i in range(9)],\n",
    "         'go-', color='green', label='I2', marker='o')\n",
    "plt.plot(xaxis,[visual[i][2] for i in range(9)],\n",
    "         'go-', color='red', label='I3', marker='o')\n",
    "plt.plot(xaxis,[visual[i][3] for i in range(9)],\n",
    "         'go-', color='cyan', label='I4', marker='o')\n",
    "plt.plot(xaxis,[visual[i][4] for i in range(9)],\n",
    "         'go-', color='magenta', label='I5', marker='o')\n",
    "plt.xticks(xaxis,[\"IM1\",\"IM2\",\"IM3\",\"IM4\",\"IM5\",\"IM6\",\"IM7\",\"IM8\",\"IM9\"])\n",
    "plt.xlabel(\"Information Measures\")\n",
    "plt.ylabel(\"Company Scores\")\n",
    "plt.title(\"The visualization of company scores Si and rank of companies \\n using information measures IMi\")\n",
    "figure = plt.gcf()\n",
    "figure.set_size_inches(10,5)\n",
    "plt.legend(loc='upper left', ncol=5)\n",
    "plt.savefig('original.eps', format='eps')\n",
    "plt.show()"
   ]
  }
 ],
 "metadata": {
  "kernelspec": {
   "display_name": "Python 3",
   "language": "python",
   "name": "python3"
  },
  "language_info": {
   "codemirror_mode": {
    "name": "ipython",
    "version": 3
   },
   "file_extension": ".py",
   "mimetype": "text/x-python",
   "name": "python",
   "nbconvert_exporter": "python",
   "pygments_lexer": "ipython3",
   "version": "3.8.5"
  }
 },
 "nbformat": 4,
 "nbformat_minor": 5
}
