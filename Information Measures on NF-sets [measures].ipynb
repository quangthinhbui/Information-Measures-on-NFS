{
 "cells": [
  {
   "cell_type": "markdown",
   "metadata": {},
   "source": [
    "# Dataset"
   ]
  },
  {
   "cell_type": "code",
   "execution_count": 1,
   "metadata": {},
   "outputs": [
    {
     "name": "stdout",
     "output_type": "stream",
     "text": [
      "[[0.3, 0.8, 0.4, 0.5], [0.8, 0.3, 0.5, 0.6], [0.6, 0.9, 0.7, 0.2], [0.5, 0.1, 0.4, 0.6]]\n",
      "[[0.8, 0.3, 0.2, 0.9], [0.2, 0.1, 0.5, 0.7], [0.4, 0.2, 0.8, 0.1], [0.6, 0.5, 0.3, 0.4]]\n"
     ]
    }
   ],
   "source": [
    "import numpy as np\n",
    "from im import *\n",
    "from bs import *\n",
    "\n",
    "x = read(\"test_a.txt\")\n",
    "y = read(\"test_b.txt\")\n",
    "print(x)\n",
    "print(y)"
   ]
  },
  {
   "cell_type": "markdown",
   "metadata": {},
   "source": [
    "# Information Measures"
   ]
  },
  {
   "cell_type": "markdown",
   "metadata": {},
   "source": [
    "## Similarity"
   ]
  },
  {
   "cell_type": "code",
   "execution_count": 2,
   "metadata": {},
   "outputs": [
    {
     "name": "stdout",
     "output_type": "stream",
     "text": [
      "[0.878, 0.725, 0.785, 0.652, 0.623, 0.585, 0.902, 0.78, 0.643]\n"
     ]
    }
   ],
   "source": [
    "print(s(x,y))"
   ]
  },
  {
   "cell_type": "markdown",
   "metadata": {},
   "source": [
    "## Entropy"
   ]
  },
  {
   "cell_type": "code",
   "execution_count": 3,
   "metadata": {},
   "outputs": [
    {
     "name": "stdout",
     "output_type": "stream",
     "text": [
      "[0.804, 0.65, 0.72, 0.57, 0.537, 0.483, 0.845, 0.716, 0.563]\n",
      "[0.722, 0.55, 0.625, 0.473, 0.439, 0.368, 0.737, 0.626, 0.47]\n"
     ]
    }
   ],
   "source": [
    "print(e(x))\n",
    "print(e(y))"
   ]
  },
  {
   "cell_type": "markdown",
   "metadata": {},
   "source": [
    "## Cross Entropy"
   ]
  },
  {
   "cell_type": "code",
   "execution_count": 4,
   "metadata": {},
   "outputs": [
    {
     "name": "stdout",
     "output_type": "stream",
     "text": [
      "[0.122, 0.275, 0.215, 0.348, 0.377, 0.415, 0.098, 0.22, 0.357]\n"
     ]
    }
   ],
   "source": [
    "print(c(x,y))"
   ]
  }
 ],
 "metadata": {
  "kernelspec": {
   "display_name": "Python 3",
   "language": "python",
   "name": "python3"
  },
  "language_info": {
   "codemirror_mode": {
    "name": "ipython",
    "version": 3
   },
   "file_extension": ".py",
   "mimetype": "text/x-python",
   "name": "python",
   "nbconvert_exporter": "python",
   "pygments_lexer": "ipython3",
   "version": "3.8.5"
  }
 },
 "nbformat": 4,
 "nbformat_minor": 5
}
