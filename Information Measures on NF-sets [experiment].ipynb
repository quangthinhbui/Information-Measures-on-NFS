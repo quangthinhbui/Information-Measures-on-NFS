{
 "cells": [
  {
   "cell_type": "code",
   "execution_count": 1,
   "metadata": {},
   "outputs": [
    {
     "data": {
      "text/html": [
       "<div>\n",
       "<style scoped>\n",
       "    .dataframe tbody tr th:only-of-type {\n",
       "        vertical-align: middle;\n",
       "    }\n",
       "\n",
       "    .dataframe tbody tr th {\n",
       "        vertical-align: top;\n",
       "    }\n",
       "\n",
       "    .dataframe thead th {\n",
       "        text-align: right;\n",
       "    }\n",
       "</style>\n",
       "<table border=\"1\" class=\"dataframe\">\n",
       "  <thead>\n",
       "    <tr style=\"text-align: right;\">\n",
       "      <th></th>\n",
       "      <th>T10</th>\n",
       "      <th>T10_T</th>\n",
       "      <th>T10_F</th>\n",
       "      <th>T10_I</th>\n",
       "      <th>L10</th>\n",
       "      <th>L10_T</th>\n",
       "      <th>L10_F</th>\n",
       "      <th>L10_I</th>\n",
       "      <th>H10</th>\n",
       "      <th>H10_T</th>\n",
       "      <th>...</th>\n",
       "      <th>SU12_F</th>\n",
       "      <th>SU12_I</th>\n",
       "      <th>D12</th>\n",
       "      <th>D12_T</th>\n",
       "      <th>D12_F</th>\n",
       "      <th>D12_I</th>\n",
       "      <th>AV12</th>\n",
       "      <th>AV12_T</th>\n",
       "      <th>AV12_F</th>\n",
       "      <th>AV12_I</th>\n",
       "    </tr>\n",
       "  </thead>\n",
       "  <tbody>\n",
       "    <tr>\n",
       "      <th>0</th>\n",
       "      <td>8.6</td>\n",
       "      <td>6</td>\n",
       "      <td>8</td>\n",
       "      <td>6</td>\n",
       "      <td>9.8</td>\n",
       "      <td>9</td>\n",
       "      <td>3</td>\n",
       "      <td>2</td>\n",
       "      <td>9.8</td>\n",
       "      <td>7</td>\n",
       "      <td>...</td>\n",
       "      <td>3</td>\n",
       "      <td>2</td>\n",
       "      <td>10.0</td>\n",
       "      <td>5</td>\n",
       "      <td>7</td>\n",
       "      <td>7</td>\n",
       "      <td>9.8</td>\n",
       "      <td>10</td>\n",
       "      <td>3</td>\n",
       "      <td>4</td>\n",
       "    </tr>\n",
       "    <tr>\n",
       "      <th>1</th>\n",
       "      <td>9.0</td>\n",
       "      <td>7</td>\n",
       "      <td>7</td>\n",
       "      <td>4</td>\n",
       "      <td>9.8</td>\n",
       "      <td>10</td>\n",
       "      <td>2</td>\n",
       "      <td>1</td>\n",
       "      <td>9.5</td>\n",
       "      <td>8</td>\n",
       "      <td>...</td>\n",
       "      <td>2</td>\n",
       "      <td>2</td>\n",
       "      <td>9.8</td>\n",
       "      <td>7</td>\n",
       "      <td>7</td>\n",
       "      <td>7</td>\n",
       "      <td>9.7</td>\n",
       "      <td>8</td>\n",
       "      <td>5</td>\n",
       "      <td>4</td>\n",
       "    </tr>\n",
       "  </tbody>\n",
       "</table>\n",
       "<p>2 rows × 96 columns</p>\n",
       "</div>"
      ],
      "text/plain": [
       "   T10  T10_T  T10_F  T10_I  L10  L10_T  L10_F  L10_I  H10  H10_T  ...  \\\n",
       "0  8.6      6      8      6  9.8      9      3      2  9.8      7  ...   \n",
       "1  9.0      7      7      4  9.8     10      2      1  9.5      8  ...   \n",
       "\n",
       "   SU12_F  SU12_I   D12  D12_T  D12_F  D12_I  AV12  AV12_T  AV12_F  AV12_I  \n",
       "0       3       2  10.0      5      7      7   9.8      10       3       4  \n",
       "1       2       2   9.8      7      7      7   9.7       8       5       4  \n",
       "\n",
       "[2 rows x 96 columns]"
      ]
     },
     "execution_count": 1,
     "metadata": {},
     "output_type": "execute_result"
    }
   ],
   "source": [
    "import pandas as pd\n",
    "import numpy as np\n",
    "\n",
    "data = pd.read_csv(\"experiment.csv\") \n",
    "data.head(5)\n",
    "#print(data)"
   ]
  },
  {
   "cell_type": "code",
   "execution_count": 2,
   "metadata": {},
   "outputs": [
    {
     "name": "stdout",
     "output_type": "stream",
     "text": [
      "[ 8.6  6.   8.   6.   9.8  9.   3.   2.   9.8  7.   6.   5.   9.1  7.\n",
      "  6.   8.   8.5  8.   5.   4.   9.8  9.   6.   5.   8.9  8.   5.   5.\n",
      "  9.7  8.   4.   2.   9.8  9.   3.   2.   9.5  8.   3.   2.   8.8  8.\n",
      "  5.   4.   9.7  6.   7.   6.   8.1  7.   5.   4.   9.6  9.   2.   2.\n",
      "  9.8  5.   7.   7.   9.3  7.   8.   7.  10.   9.   3.   2.   9.7 10.\n",
      "  1.   0.  10.   5.   7.   7.   9.9  5.   7.   8.   9.8  4.   8.   8.\n",
      " 10.  10.   3.   2.  10.   5.   7.   7.   9.8 10.   3.   4. ]\n",
      "[ 9.   7.   7.   4.   9.8 10.   2.   1.   9.5  8.   7.   6.   9.5  6.\n",
      "  7.   7.   9.   7.   5.   4.   9.3  6.   7.   3.   9.5  5.   8.   8.\n",
      "  9.9  9.   3.   4.  10.   9.   6.   2.  10.  10.   2.   1.   9.5  8.\n",
      "  5.   3.   9.5  7.   6.   7.   8.8  9.   4.   4.   8.8  4.   8.   6.\n",
      "  9.4  8.   7.   8.   9.8  9.   4.   5.   9.9 10.   1.   0.   9.7 10.\n",
      "  3.   3.   9.7  6.   7.   6.   9.6  7.   8.   9.   8.6  9.   6.   5.\n",
      "  9.7  8.   2.   2.   9.8  7.   7.   7.   9.7  8.   5.   4. ]\n"
     ]
    }
   ],
   "source": [
    "data1 = np.array(data[0:1])[0]\n",
    "print(data1)\n",
    "data2 = np.array(data[1:2])[0]\n",
    "print(data2)"
   ]
  },
  {
   "cell_type": "code",
   "execution_count": 3,
   "metadata": {},
   "outputs": [
    {
     "name": "stdout",
     "output_type": "stream",
     "text": [
      "[9.4        7.33333333 5.66666667 4.33333333]\n",
      "[9.36666667 8.33333333 3.66666667 2.66666667]\n",
      "[9.9        8.         3.66666667 3.        ]\n",
      "[9.43333333 8.33333333 5.33333333 3.66666667]\n",
      "[9.83333333 9.         4.33333333 2.        ]\n"
     ]
    }
   ],
   "source": [
    "T10 = data1[0:4]\n",
    "L10 = data1[4:8]\n",
    "H10 = data1[8:12]\n",
    "A10 = np.mean(np.array([T10,L10,H10]),axis=0)\n",
    "print(A10)\n",
    "\n",
    "T11 = data1[32:36]\n",
    "L11 = data1[36:40]\n",
    "H11 = data1[40:44]\n",
    "A11 = np.mean(np.array([T11,L11,H11]),axis=0)\n",
    "print(A11)\n",
    "\n",
    "T12 = data1[64:68]\n",
    "L12 = data1[68:72]\n",
    "H12 = data1[72:76]\n",
    "A12 = np.mean(np.array([T12,L12,H12]),axis=0)\n",
    "print(A12)\n",
    "\n",
    "A = [A10,A11,A12]\n",
    "\n",
    "T100 = data2[0:4]\n",
    "L100 = data2[4:8]\n",
    "H100 = data2[8:12]\n",
    "A100 = np.mean(np.array([T100,L100,H100]),axis=0)\n",
    "print(A100)\n",
    "\n",
    "T110 = data2[32:36]\n",
    "L110 = data2[36:40]\n",
    "H110 = data2[40:44]\n",
    "A110 = np.mean(np.array([T110,L110,H110]),axis=0)\n",
    "print(A110)\n",
    "\n",
    "T120 = data2[64:68]\n",
    "L120 = data2[68:72]\n",
    "H120 = data2[72:76]\n",
    "A120 = np.mean(np.array([T12,L12,H12]),axis=0)\n",
    "\n",
    "AA = [A100,A110,A120]"
   ]
  },
  {
   "cell_type": "code",
   "execution_count": 4,
   "metadata": {},
   "outputs": [
    {
     "name": "stdout",
     "output_type": "stream",
     "text": [
      "[9.36666667 7.66666667 5.         3.33333333]\n",
      "[9.53333333 8.         4.66666667 3.66666667]\n",
      "[9.83333333 9.66666667 2.33333333 2.        ]\n",
      "[9.36666667 7.66666667 5.         3.33333333]\n",
      "[9.93333333 9.33333333 4.         2.66666667]\n",
      "[9.76666667 9.33333333 3.         2.33333333]\n"
     ]
    }
   ],
   "source": [
    "T10 = data1[0:4]\n",
    "L10 = data1[4:8]\n",
    "A10 = data1[28:32]\n",
    "A110 = np.mean(np.array([T10,L10,A10]),axis=0)\n",
    "print(A110)\n",
    "\n",
    "T11 = data1[32:36]\n",
    "L11 = data1[36:40]\n",
    "A11 = data1[60:64]\n",
    "A111 = np.mean(np.array([T11,L11,A11]),axis=0)\n",
    "print(A111)\n",
    "\n",
    "T12 = data1[64:68]\n",
    "L12 = data1[68:72]\n",
    "A12 = data1[92:96]\n",
    "A112 = np.mean(np.array([T12,L12,A12]),axis=0)\n",
    "print(A112)\n",
    "\n",
    "A1 = [A110,A111,A112]\n",
    "\n",
    "T100 = data2[0:4]\n",
    "L100 = data2[4:8]\n",
    "A100 = data2[28:32]\n",
    "A1100 = np.mean(np.array([T100,L100,A100]),axis=0)\n",
    "print(A110)\n",
    "\n",
    "T110 = data2[32:36]\n",
    "L110 = data2[36:40]\n",
    "A110 = data2[60:64]\n",
    "A1110 = np.mean(np.array([T110,L110,A110]),axis=0)\n",
    "print(A1110)\n",
    "\n",
    "T120 = data2[64:68]\n",
    "L120 = data2[68:72]\n",
    "A120 = data2[92:96]\n",
    "A1120 = np.mean(np.array([T120,L120,A120]),axis=0)\n",
    "print(A1120)\n",
    "\n",
    "AA1 = [A1100,A1110,A1120]"
   ]
  },
  {
   "cell_type": "code",
   "execution_count": 5,
   "metadata": {},
   "outputs": [
    {
     "name": "stdout",
     "output_type": "stream",
     "text": [
      "[9.7 8.  4.  2. ]\n",
      "[9.43333333 7.66666667 5.         4.        ]\n",
      "[9.96666667 6.33333333 5.66666667 5.66666667]\n",
      "[9.9 9.  3.  4. ]\n",
      "[9.66666667 8.         5.66666667 4.        ]\n",
      "[9.73333333 7.66666667 5.33333333 5.        ]\n"
     ]
    }
   ],
   "source": [
    "T10 = data1[0:4]\n",
    "H10 = data1[8:12]\n",
    "SI10 = data1[12:16]\n",
    "B10 = np.mean(np.array([T10,H10,SI10]),axis=0)\n",
    "print(A10)\n",
    "\n",
    "T11 = data1[32:36]\n",
    "H11 = data1[40:44]\n",
    "SI11 = data1[44:48]\n",
    "B11 = np.mean(np.array([T11,H11,SI11]),axis=0)\n",
    "print(B11)\n",
    "\n",
    "T12 = data1[64:68]\n",
    "H12 = data1[72:76]\n",
    "SI12 = data1[76:80]\n",
    "B12 = np.mean(np.array([T12,H12,SI12]),axis=0)\n",
    "print(B12)\n",
    "\n",
    "B = [B10,B11,B12]\n",
    "\n",
    "T100 = data2[0:4]\n",
    "H100 = data2[8:12]\n",
    "SI100 = data2[12:16]\n",
    "B100 = np.mean(np.array([T100,H100,SI100]),axis=0)\n",
    "print(A100)\n",
    "\n",
    "T110 = data2[32:36]\n",
    "H110 = data2[40:44]\n",
    "SI110 = data2[44:48]\n",
    "B110 = np.mean(np.array([T110,H110,SI110]),axis=0)\n",
    "print(B110)\n",
    "\n",
    "T120 = data2[64:68]\n",
    "H120 = data2[72:76]\n",
    "SI120 = data2[76:80]\n",
    "B120 = np.mean(np.array([T120,H120,SI120]),axis=0)\n",
    "print(B120)\n",
    "\n",
    "BB = [B100,B110,B120]"
   ]
  },
  {
   "cell_type": "code",
   "execution_count": 6,
   "metadata": {},
   "outputs": [
    {
     "name": "stdout",
     "output_type": "stream",
     "text": [
      "[9.06666667 8.33333333 5.33333333 4.66666667]\n",
      "[9.16666667 7.         4.66666667 4.33333333]\n",
      "[9.93333333 6.33333333 6.         5.66666667]\n",
      "[9.26666667 6.         6.66666667 5.        ]\n",
      "[9.         7.         6.33333333 6.        ]\n",
      "[9.36666667 8.         5.         4.66666667]\n"
     ]
    }
   ],
   "source": [
    "V10 = data1[16:20]\n",
    "SU10 = data1[20:24]\n",
    "D10 = data1[24:28]\n",
    "C10 = np.mean(np.array([V10,SU10,D10]),axis=0)\n",
    "print(C10)\n",
    "\n",
    "V11 = data1[48:52]\n",
    "SU11 = data1[52:56]\n",
    "D11 = data1[56:60]\n",
    "C11 = np.mean(np.array([V11,SU11,D11]),axis=0)\n",
    "print(C11)\n",
    "\n",
    "V12 = data1[80:84]\n",
    "SU12 = data1[84:88]\n",
    "D12 = data1[88:92]\n",
    "C12 = np.mean(np.array([V12,SU12,D12]),axis=0)\n",
    "print(C12)\n",
    "\n",
    "C = [C10,C11,C12]\n",
    "\n",
    "V100 = data2[16:20]\n",
    "SU100 = data2[20:24]\n",
    "D100 = data2[24:28]\n",
    "C100 = np.mean(np.array([V100,SU100,D100]),axis=0)\n",
    "print(C100)\n",
    "\n",
    "V110 = data2[48:52]\n",
    "SU110 = data2[52:56]\n",
    "D110 = data2[56:60]\n",
    "C110 = np.mean(np.array([V110,SU110,D110]),axis=0)\n",
    "print(C110)\n",
    "\n",
    "V120 = data2[80:84]\n",
    "SU120 = data2[84:88]\n",
    "D120 = data2[88:92]\n",
    "C120 = np.mean(np.array([V120,SU120,D120]),axis=0)\n",
    "print(C120)\n",
    "\n",
    "CC = [C100,C110,C120]"
   ]
  },
  {
   "cell_type": "code",
   "execution_count": 7,
   "metadata": {},
   "outputs": [
    {
     "name": "stdout",
     "output_type": "stream",
     "text": [
      "[8.93333333 7.33333333 5.66666667 4.        ]\n",
      "[9.06666667 7.66666667 5.33333333 4.33333333]\n",
      "[9.86666667 7.66666667 4.66666667 4.66666667]\n",
      "[9.3        7.66666667 5.         4.        ]\n",
      "[9.53333333 9.         4.66666667 3.66666667]\n",
      "[9.4 9.  4.  3. ]\n"
     ]
    }
   ],
   "source": [
    "T10 = data1[0:4]\n",
    "V10 = data1[16:20]\n",
    "A10 = data1[28:32]\n",
    "DD10 = np.mean(np.array([T10,V10,A10]),axis=0)\n",
    "print(DD10)\n",
    "\n",
    "T11 = data1[32:36]\n",
    "V11 = data1[48:52]\n",
    "A11 = data1[60:64]\n",
    "DD11 = np.mean(np.array([T11,V11,A11]),axis=0)\n",
    "print(DD11)\n",
    "\n",
    "T12 = data1[64:68]\n",
    "V12 = data1[80:84]\n",
    "A12 = data1[92:96]\n",
    "DD12 = np.mean(np.array([T12,V12,A12]),axis=0)\n",
    "print(DD12)\n",
    "\n",
    "D = [DD10,DD11,DD12]\n",
    "\n",
    "T100 = data2[0:4]\n",
    "V100 = data2[16:20]\n",
    "A100 = data2[28:32]\n",
    "DD100 = np.mean(np.array([T100,V100,A100]),axis=0)\n",
    "print(DD100)\n",
    "\n",
    "T110 = data2[32:36]\n",
    "V110 = data2[48:52]\n",
    "A110 = data2[60:64]\n",
    "DD110 = np.mean(np.array([T110,V110,A110]),axis=0)\n",
    "print(DD110)\n",
    "\n",
    "T120 = data2[64:68]\n",
    "V120 = data2[80:84]\n",
    "A120 = data2[92:96]\n",
    "DD120 = np.mean(np.array([T120,V120,A120]),axis=0)\n",
    "print(DD120)\n",
    "\n",
    "DD = [DD100,DD110,DD120]"
   ]
  },
  {
   "cell_type": "code",
   "execution_count": 8,
   "metadata": {},
   "outputs": [
    {
     "name": "stdout",
     "output_type": "stream",
     "text": [
      "[[[0.94       0.73333333 0.43333333 0.56666667]\n",
      "  [0.93666667 0.76666667 0.33333333 0.5       ]\n",
      "  [0.91666667 0.66666667 0.63333333 0.66666667]\n",
      "  [0.90666667 0.83333333 0.46666667 0.53333333]\n",
      "  [0.89333333 0.73333333 0.4        0.56666667]]\n",
      "\n",
      " [[0.94333333 0.83333333 0.36666667 0.53333333]\n",
      "  [0.95666667 0.86666667 0.3        0.4       ]\n",
      "  [0.93333333 0.7        0.56666667 0.7       ]\n",
      "  [0.92666667 0.6        0.5        0.66666667]\n",
      "  [0.93       0.76666667 0.4        0.5       ]]\n",
      "\n",
      " [[0.93666667 0.83333333 0.26666667 0.36666667]\n",
      "  [0.95333333 0.8        0.36666667 0.46666667]\n",
      "  [0.94333333 0.76666667 0.4        0.5       ]\n",
      "  [0.91666667 0.7        0.43333333 0.46666667]\n",
      "  [0.90666667 0.76666667 0.43333333 0.53333333]]\n",
      "\n",
      " [[0.98333333 0.9        0.2        0.43333333]\n",
      "  [0.99333333 0.93333333 0.26666667 0.4       ]\n",
      "  [0.96666667 0.8        0.4        0.56666667]\n",
      "  [0.9        0.7        0.6        0.63333333]\n",
      "  [0.95333333 0.9        0.36666667 0.46666667]]\n",
      "\n",
      " [[0.99       0.8        0.3        0.36666667]\n",
      "  [0.98333333 0.96666667 0.2        0.23333333]\n",
      "  [0.99666667 0.63333333 0.56666667 0.56666667]\n",
      "  [0.99333333 0.63333333 0.56666667 0.6       ]\n",
      "  [0.98666667 0.76666667 0.46666667 0.46666667]]\n",
      "\n",
      " [[0.99       0.8        0.3        0.36666667]\n",
      "  [0.97666667 0.93333333 0.23333333 0.3       ]\n",
      "  [0.97333333 0.76666667 0.5        0.53333333]\n",
      "  [0.93666667 0.8        0.46666667 0.5       ]\n",
      "  [0.94       0.9        0.3        0.4       ]]]\n"
     ]
    }
   ],
   "source": [
    "from nfs import *\n",
    "\n",
    "def change(A):\n",
    "    Aok = []\n",
    "    for i in range(3):\n",
    "        temp = []\n",
    "        for j in range(4):\n",
    "            if j == 0:\n",
    "                temp.append(A[i][j]/10)\n",
    "            if j == 1:\n",
    "                temp.append(A[i][j]/10)\n",
    "            if j == 2:\n",
    "                temp.append(A[i][j+1]/10)\n",
    "            if j == 3:\n",
    "                temp.append(A[i][j-1]/10)\n",
    "        Aok.append(temp)\n",
    "    return(Aok)\n",
    "\n",
    "matrix = np.array([change(A),change(A1),change(B),change(C),change(D)])\n",
    "matrixx = np.array([change(AA),change(AA1),change(BB),change(CC),change(DD)])\n",
    "\n",
    "def rtc(A):\n",
    "    rtc = []\n",
    "    for i in range(3):\n",
    "        temp = []\n",
    "        for j in range(5):\n",
    "            temp.append(A[j][i])\n",
    "        rtc.append(temp)\n",
    "    return np.array(rtc)\n",
    "matric = rtc(matrix)\n",
    "matricc = rtc(matrixx)\n",
    "\n",
    "mat = []\n",
    "for i in range(3):\n",
    "    mat.append(matric[i])\n",
    "    mat.append(matricc[i])\n",
    "nfs = np.array(mat)\n",
    "print(nfs)"
   ]
  },
  {
   "cell_type": "code",
   "execution_count": 9,
   "metadata": {},
   "outputs": [
    {
     "name": "stdout",
     "output_type": "stream",
     "text": [
      "[[[0.94       0.73333333 0.43333333 0.56666667]\n",
      "  [0.93666667 0.76666667 0.33333333 0.5       ]\n",
      "  [0.91666667 0.66666667 0.63333333 0.66666667]\n",
      "  [0.90666667 0.83333333 0.46666667 0.53333333]\n",
      "  [0.89333333 0.73333333 0.4        0.56666667]]\n",
      "\n",
      " [[0.94333333 0.83333333 0.36666667 0.53333333]\n",
      "  [0.95666667 0.86666667 0.3        0.4       ]\n",
      "  [0.93333333 0.7        0.56666667 0.7       ]\n",
      "  [0.92666667 0.6        0.5        0.66666667]\n",
      "  [0.93       0.76666667 0.4        0.5       ]]\n",
      "\n",
      " [[0.93666667 0.83333333 0.26666667 0.36666667]\n",
      "  [0.95333333 0.8        0.36666667 0.46666667]\n",
      "  [0.94333333 0.76666667 0.4        0.5       ]\n",
      "  [0.91666667 0.7        0.43333333 0.46666667]\n",
      "  [0.90666667 0.76666667 0.43333333 0.53333333]]\n",
      "\n",
      " [[0.98333333 0.9        0.2        0.43333333]\n",
      "  [0.99333333 0.93333333 0.26666667 0.4       ]\n",
      "  [0.96666667 0.8        0.4        0.56666667]\n",
      "  [0.9        0.7        0.6        0.63333333]\n",
      "  [0.95333333 0.9        0.36666667 0.46666667]]\n",
      "\n",
      " [[0.99       0.8        0.3        0.36666667]\n",
      "  [0.98333333 0.96666667 0.2        0.23333333]\n",
      "  [0.99666667 0.63333333 0.56666667 0.56666667]\n",
      "  [0.99333333 0.63333333 0.56666667 0.6       ]\n",
      "  [0.98666667 0.76666667 0.46666667 0.46666667]]\n",
      "\n",
      " [[0.99       0.8        0.3        0.36666667]\n",
      "  [0.97666667 0.93333333 0.23333333 0.3       ]\n",
      "  [0.97333333 0.76666667 0.5        0.53333333]\n",
      "  [0.93666667 0.8        0.46666667 0.5       ]\n",
      "  [0.94       0.9        0.3        0.4       ]]]\n"
     ]
    }
   ],
   "source": [
    "cost = []\n",
    "mat = rnf(nfs,cost)\n",
    "print(np.array(mat))"
   ]
  },
  {
   "cell_type": "code",
   "execution_count": 10,
   "metadata": {},
   "outputs": [
    {
     "name": "stdout",
     "output_type": "stream",
     "text": [
      "[0.73485592 0.6984736  0.70840004 0.6104156  0.62388925 0.61464646]\n",
      "[0.584      0.55433333 0.56433333 0.47033333 0.49833333 0.48166667]\n",
      "[0.66347345 0.63471541 0.64387764 0.55371124 0.57625719 0.56267861]\n",
      "[0.49830168 0.4700617  0.48015414 0.38901968 0.41972247 0.40180842]\n",
      "[0.46180061 0.43375568 0.44405757 0.35286981 0.38544488 0.36656518]\n",
      "[0.39232813 0.35994676 0.37228963 0.26734094 0.31016058 0.28511545]\n",
      "[0.79365553 0.7599189  0.76972948 0.6674008  0.68866729 0.67493578]\n",
      "[0.66104904 0.63357235 0.64235848 0.55583091 0.57708436 0.56441015]\n",
      "[0.4939256  0.46694567 0.47660002 0.38916518 0.4181917  0.40135067]\n"
     ]
    }
   ],
   "source": [
    "for i in range(9):\n",
    "    print(np.array(ej(mat,i)))"
   ]
  },
  {
   "cell_type": "code",
   "execution_count": 11,
   "metadata": {
    "scrolled": true
   },
   "outputs": [
    {
     "name": "stdout",
     "output_type": "stream",
     "text": [
      "[0.01077318 0.02003571 0.00603978 0.02273738 0.03600604 0.01500953]\n",
      "[0.07616667 0.10866667 0.05933333 0.11583333 0.14       0.09383333]\n",
      "[0.05628725 0.0811114  0.04360647 0.08691311 0.10599633 0.06967535]\n",
      "[0.10504824 0.14734771 0.0826317  0.15580339 0.18562861 0.12834446]\n",
      "[0.11501147 0.16110538 0.09052228 0.17019187 0.20244949 0.14043473]\n",
      "[0.11913904 0.1693082  0.09296253 0.17994713 0.21641003 0.14652712]\n",
      "[0.00883909 0.01761038 0.00535158 0.02142759 0.03147961 0.0129763 ]\n",
      "[0.05994768 0.08569646 0.04666    0.09148369 0.11084963 0.07391463]\n",
      "[0.11168364 0.15539482 0.08827739 0.16375527 0.19387968 0.13590069]\n"
     ]
    }
   ],
   "source": [
    "for i in range(9):\n",
    "    print(np.array(cj(mat,i)))"
   ]
  },
  {
   "cell_type": "code",
   "execution_count": 12,
   "metadata": {},
   "outputs": [
    {
     "name": "stdout",
     "output_type": "stream",
     "text": [
      "[0.13015452 0.15168591 0.14040135 0.19449868 0.19440198 0.18885757]\n",
      "1.0\n",
      "[0.14303705 0.16110438 0.1438605  0.1875999  0.18648583 0.17791233]\n",
      "1.0\n",
      "[0.13984731 0.15892333 0.14230916 0.18982746 0.18859468 0.18049806]\n",
      "1.0000000000000002\n",
      "[0.14635436 0.1633693  0.14532463 0.1849572  0.18474552 0.17524899]\n",
      "0.9999999999999998\n",
      "[0.14727807 0.163994   0.14575703 0.18427987 0.1842083  0.17448273]\n",
      "0.9999999999999999\n",
      "[0.14721376 0.16393417 0.14597052 0.18484614 0.1835586  0.17447681]\n",
      "1.0\n",
      "[0.12342918 0.1478117  0.13515271 0.20306958 0.19663697 0.19389986]\n",
      "1.0\n",
      "[0.14074238 0.15952178 0.14264867 0.18899299 0.18832703 0.17976715]\n",
      "1.0\n",
      "[0.14699031 0.16381066 0.14554347 0.18430717 0.18456841 0.17477998]\n",
      "1.0\n"
     ]
    }
   ],
   "source": [
    "for i in range(9):\n",
    "    print(np.array(w(mat,i)))\n",
    "    print(sum(w(mat,i)))"
   ]
  },
  {
   "cell_type": "code",
   "execution_count": 13,
   "metadata": {
    "scrolled": true
   },
   "outputs": [
    {
     "name": "stdout",
     "output_type": "stream",
     "text": [
      "[0.91512633 0.93633454 0.82056854 0.82005535 0.8864682 ]\n",
      "[0.76122709 0.80047663 0.64613793 0.63962691 0.71787568]\n",
      "[0.81651739 0.84822913 0.71878098 0.71273724 0.78061185]\n",
      "[0.69143483 0.73833332 0.56341653 0.55689477 0.6416567 ]\n",
      "[0.66442627 0.71480337 0.5292784  0.52257512 0.61137858]\n",
      "[0.63369035 0.69152107 0.4733103  0.46517685 0.57120161]\n",
      "[0.93012195 0.94957283 0.84924064 0.84136696 0.90350059]\n",
      "[0.81027423 0.8421109  0.71444432 0.70870072 0.77475673]\n",
      "[0.68152889 0.72837294 0.5565947  0.55039482 0.63257358]\n"
     ]
    }
   ],
   "source": [
    "for i in range(9):\n",
    "    print(np.array(Spos(mat,i)))"
   ]
  },
  {
   "cell_type": "code",
   "execution_count": 14,
   "metadata": {},
   "outputs": [
    {
     "name": "stdout",
     "output_type": "stream",
     "text": [
      "[0.38227803 0.32396168 0.52264114 0.53882873 0.44193668]\n",
      "[0.23877291 0.19952337 0.35386207 0.36037309 0.28212432]\n",
      "[0.30724708 0.25994284 0.43563872 0.44336505 0.35717518]\n",
      "[0.18443697 0.15293344 0.28201874 0.28704769 0.22025622]\n",
      "[0.15835848 0.1303474  0.24865391 0.25318355 0.19090286]\n",
      "[0.07250094 0.05305726 0.15367484 0.15789671 0.09904021]\n",
      "[0.36024933 0.30077041 0.52232268 0.53598525 0.42337559]\n",
      "[0.31722538 0.26997311 0.44253322 0.4498497  0.36633323]\n",
      "[0.19063266 0.15901053 0.28629658 0.29109611 0.22606019]\n"
     ]
    }
   ],
   "source": [
    "for i in range(9):\n",
    "    print(np.array(Sneg(mat,i)))"
   ]
  },
  {
   "cell_type": "code",
   "execution_count": 15,
   "metadata": {},
   "outputs": [
    {
     "name": "stdout",
     "output_type": "stream",
     "text": [
      "[0.70535167 0.74294799 0.6109013  0.60347705 0.66731778]\n",
      "[0.76122709 0.80047663 0.64613793 0.63962691 0.71787568]\n",
      "[0.72659121 0.76543095 0.62263402 0.61650015 0.68607905]\n",
      "[0.7894247  0.82840891 0.66642184 0.65987291 0.74445652]\n",
      "[0.80753352 0.84577024 0.68036562 0.67363104 0.76205001]\n",
      "[0.89733526 0.92874186 0.75489876 0.74658416 0.85223212]\n",
      "[0.72081731 0.75944973 0.61917713 0.61085825 0.68092306]\n",
      "[0.71864701 0.75723676 0.61750924 0.61171332 0.67896201]\n",
      "[0.78142505 0.82080968 0.66033984 0.65407101 0.73672106]\n"
     ]
    }
   ],
   "source": [
    "visual = []\n",
    "for i in range(9):\n",
    "    print(np.array(S(mat,i)))\n",
    "    visual.append(S(mat,i))"
   ]
  },
  {
   "cell_type": "code",
   "execution_count": 16,
   "metadata": {},
   "outputs": [
    {
     "name": "stdout",
     "output_type": "stream",
     "text": [
      "Similarity no. 1 : [4 3 5 1 2]\n",
      "Similarity no. 2 : [4 3 5 1 2]\n",
      "Similarity no. 3 : [4 3 5 1 2]\n",
      "Similarity no. 4 : [4 3 5 1 2]\n",
      "Similarity no. 5 : [4 3 5 1 2]\n",
      "Similarity no. 6 : [4 3 5 1 2]\n",
      "Similarity no. 7 : [4 3 5 1 2]\n",
      "Similarity no. 8 : [4 3 5 1 2]\n",
      "Similarity no. 9 : [4 3 5 1 2]\n"
     ]
    }
   ],
   "source": [
    "for i in range(9):\n",
    "    print(\"Similarity no.\",i+1,\":\",np.array(rank(mat,i)))"
   ]
  },
  {
   "cell_type": "code",
   "execution_count": 17,
   "metadata": {},
   "outputs": [
    {
     "name": "stdout",
     "output_type": "stream",
     "text": [
      "Similarity no. 1 : 2\n",
      "Similarity no. 2 : 2\n",
      "Similarity no. 3 : 2\n",
      "Similarity no. 4 : 2\n",
      "Similarity no. 5 : 2\n",
      "Similarity no. 6 : 2\n",
      "Similarity no. 7 : 2\n",
      "Similarity no. 8 : 2\n",
      "Similarity no. 9 : 2\n"
     ]
    }
   ],
   "source": [
    " for i in range(9):\n",
    "    print(\"Similarity no.\",i+1,\":\",alt(mat,i))"
   ]
  },
  {
   "cell_type": "code",
   "execution_count": 18,
   "metadata": {},
   "outputs": [
    {
     "name": "stderr",
     "output_type": "stream",
     "text": [
      "The PostScript backend does not support transparency; partially transparent artists will be rendered opaque.\n",
      "The PostScript backend does not support transparency; partially transparent artists will be rendered opaque.\n"
     ]
    },
    {
     "data": {
      "image/png": "[encoded data removed]",
      "text/plain": [
       "<Figure size 720x324 with 1 Axes>"
      ]
     },
     "metadata": {
      "needs_background": "light"
     },
     "output_type": "display_data"
    }
   ],
   "source": [
    "import matplotlib.pyplot as plt\n",
    "xaxis = [1,2,3,4,5,6,7,8,9]\n",
    "plt.plot(xaxis,[visual[i][0] for i in range(9)],\n",
    "         'go-', color='blue', label='A', marker='o')\n",
    "plt.plot(xaxis,[visual[i][1] for i in range(9)],\n",
    "         'go-', color='green', label='A1', marker='o')\n",
    "plt.plot(xaxis,[visual[i][2] for i in range(9)],\n",
    "         'go-', color='red', label='B', marker='o')\n",
    "plt.plot(xaxis,[visual[i][3] for i in range(9)],\n",
    "         'go-', color='cyan', label='C', marker='o')\n",
    "plt.plot(xaxis,[visual[i][4] for i in range(9)],\n",
    "         'go-', color='magenta', label='D', marker='o')\n",
    "plt.xticks(xaxis,[\"IM1\",\"IM2\",\"IM3\",\"IM4\",\"IM5\",\"IM6\",\"IM7\",\"IM8\",\"IM9\"])\n",
    "plt.xlabel(\"Information Measures\")\n",
    "plt.ylabel(\"Combination Scores\")\n",
    "plt.title(\"The visualization of combination scores Si and rank of combinations \\n using information measures IMi\")\n",
    "figure = plt.gcf()\n",
    "figure.set_size_inches(10,4.5)\n",
    "plt.legend(loc='upper left', ncol=5)\n",
    "plt.savefig('experiment.eps', format='eps')\n",
    "plt.show()"
   ]
  },
  {
   "cell_type": "code",
   "execution_count": 19,
   "metadata": {},
   "outputs": [],
   "source": [
    "# 9.6, 8, 9.8, 8.5, 8.5, 6.75\n",
    "# A: 26.6đ, A1: 27.9đ, B: 24.85đ, D: 27.4đ"
   ]
  }
 ],
 "metadata": {
  "kernelspec": {
   "display_name": "Python 3",
   "language": "python",
   "name": "python3"
  },
  "language_info": {
   "codemirror_mode": {
    "name": "ipython",
    "version": 3
   },
   "file_extension": ".py",
   "mimetype": "text/x-python",
   "name": "python",
   "nbconvert_exporter": "python",
   "pygments_lexer": "ipython3",
   "version": "3.8.5"
  }
 },
 "nbformat": 4,
 "nbformat_minor": 4
}
