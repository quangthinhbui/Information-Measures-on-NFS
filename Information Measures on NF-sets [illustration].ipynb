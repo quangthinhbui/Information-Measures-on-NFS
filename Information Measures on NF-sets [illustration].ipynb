{
 "cells": [
  {
   "cell_type": "markdown",
   "id": "93663fd0",
   "metadata": {},
   "source": [
    "# Input"
   ]
  },
  {
   "cell_type": "code",
   "execution_count": 1,
   "id": "61e095e3",
   "metadata": {},
   "outputs": [
    {
     "name": "stdout",
     "output_type": "stream",
     "text": [
      "[[[0.6 0.3 0.7 0.1]\n",
      "  [0.2 0.9 0.2 0.6]\n",
      "  [0.1 0.9 0.4 0.1]\n",
      "  [0.2 0.7 0.7 0.2]]\n",
      "\n",
      " [[0.4 0.2 0.9 0.7]\n",
      "  [0.1 0.2 0.4 0.1]\n",
      "  [0.7 0.1 0.4 0.1]\n",
      "  [0.9 0.3 0.5 0.7]]\n",
      "\n",
      " [[0.3 0.9 0.2 0.5]\n",
      "  [0.9 0.3 0.2 0.4]\n",
      "  [0.6 0.2 0.9 0.2]\n",
      "  [0.1 0.4 0.8 0.9]]\n",
      "\n",
      " [[0.7 0.6 0.8 0.8]\n",
      "  [0.6 0.5 0.4 0.3]\n",
      "  [0.4 0.2 0.5 0.9]\n",
      "  [0.8 0.6 0.8 0.5]]\n",
      "\n",
      " [[0.2 0.2 0.9 0.7]\n",
      "  [0.3 0.6 0.3 0.8]\n",
      "  [0.7 0.1 0.2 0.9]\n",
      "  [0.6 0.6 0.6 0.8]]]\n"
     ]
    }
   ],
   "source": [
    "from nfs import *\n",
    "from im import *\n",
    "\n",
    "ip = nf(4,5) \n",
    "print(np.array(ip))"
   ]
  },
  {
   "cell_type": "markdown",
   "id": "d8d91ab9",
   "metadata": {},
   "source": [
    "# NF-matrix to RNF-matrix"
   ]
  },
  {
   "cell_type": "code",
   "execution_count": 2,
   "id": "f83c25fb",
   "metadata": {},
   "outputs": [
    {
     "name": "stdout",
     "output_type": "stream",
     "text": [
      "[[[0.6 0.3 0.7 0.1]\n",
      "  [0.2 0.9 0.2 0.6]\n",
      "  [0.1 0.9 0.4 0.1]\n",
      "  [0.2 0.7 0.7 0.2]]\n",
      "\n",
      " [[0.4 0.2 0.9 0.7]\n",
      "  [0.1 0.2 0.4 0.1]\n",
      "  [0.7 0.1 0.4 0.1]\n",
      "  [0.9 0.3 0.5 0.7]]\n",
      "\n",
      " [[0.3 0.9 0.2 0.5]\n",
      "  [0.9 0.3 0.2 0.4]\n",
      "  [0.6 0.2 0.9 0.2]\n",
      "  [0.1 0.4 0.8 0.9]]\n",
      "\n",
      " [[0.7 0.6 0.8 0.8]\n",
      "  [0.6 0.5 0.4 0.3]\n",
      "  [0.4 0.2 0.5 0.9]\n",
      "  [0.8 0.6 0.8 0.5]]\n",
      "\n",
      " [[0.8 0.8 0.1 0.3]\n",
      "  [0.7 0.4 0.7 0.2]\n",
      "  [0.3 0.9 0.8 0.1]\n",
      "  [0.4 0.4 0.4 0.2]]]\n"
     ]
    }
   ],
   "source": [
    "cost = [4]\n",
    "mat = rnf(ip,cost)\n",
    "print(np.array(mat))"
   ]
  },
  {
   "cell_type": "markdown",
   "id": "5bb10f1c",
   "metadata": {},
   "source": [
    "# Entropy"
   ]
  },
  {
   "cell_type": "code",
   "execution_count": 3,
   "id": "53f884a3",
   "metadata": {},
   "outputs": [
    {
     "name": "stdout",
     "output_type": "stream",
     "text": [
      "[0.65354314 0.65930547 0.65117314 0.808933   0.70916513]\n",
      "[0.4625 0.4875 0.475  0.65   0.5125]\n",
      "[0.54656076 0.57112853 0.55967761 0.72020076 0.59049822]\n",
      "[0.38106259 0.40481764 0.39216112 0.57063161 0.4338809 ]\n",
      "[0.34472721 0.36824241 0.35531295 0.53781247 0.39963813]\n",
      "[0.25759976 0.28392125 0.26850555 0.48281279 0.32414177]\n",
      "[0.65986484 0.68833927 0.67618651 0.84327991 0.70257683]\n",
      "[0.54895843 0.57258374 0.5615838  0.7164368  0.5913623 ]\n",
      "[0.38154213 0.40439455 0.39226476 0.5642753  0.43231878]\n"
     ]
    }
   ],
   "source": [
    "for i in range(9):\n",
    "    print(np.array(ej(mat,i)))"
   ]
  },
  {
   "cell_type": "markdown",
   "id": "79246d93",
   "metadata": {},
   "source": [
    "# Cross Entropy"
   ]
  },
  {
   "cell_type": "code",
   "execution_count": 4,
   "id": "b387a3c8",
   "metadata": {},
   "outputs": [
    {
     "name": "stdout",
     "output_type": "stream",
     "text": [
      "[0.12787496 0.15813993 0.23129263 0.09564866 0.12081982]\n",
      "[0.2875     0.30416667 0.40833333 0.25833333 0.27916667]\n",
      "[0.22704379 0.2395291  0.33099354 0.20116906 0.21796213]\n",
      "[0.35948268 0.38048399 0.49205054 0.32820383 0.35318054]\n",
      "[0.3882448  0.41128037 0.52754307 0.35578514 0.38263325]\n",
      "[0.42913993 0.45643961 0.59435337 0.39157195 0.42238601]\n",
      "[0.11340113 0.11873255 0.20400131 0.08922631 0.09964351]\n",
      "[0.23182136 0.24448859 0.33340609 0.20658637 0.22344596]\n",
      "[0.36752233 0.38843934 0.49663444 0.33689382 0.36187793]\n"
     ]
    }
   ],
   "source": [
    "for i in range(9):\n",
    "    print(np.array(cj(mat,i)))"
   ]
  },
  {
   "cell_type": "markdown",
   "id": "7d5eb713",
   "metadata": {},
   "source": [
    "# Weight"
   ]
  },
  {
   "cell_type": "code",
   "execution_count": 5,
   "id": "d94cac9b",
   "metadata": {
    "scrolled": false
   },
   "outputs": [
    {
     "name": "stdout",
     "output_type": "stream",
     "text": [
      "[0.21065909 0.22154114 0.25764125 0.12733545 0.18282307]\n",
      "1.0\n",
      "[0.20886076 0.20675105 0.23628692 0.15400844 0.19409283]\n",
      "1.0\n",
      "[0.21076514 0.20702286 0.2388987  0.1489697  0.1943436 ]\n",
      "1.0000000000000002\n",
      "[0.20681708 0.20623499 0.23249309 0.16013456 0.19432028]\n",
      "0.9999999999999999\n",
      "[0.20623882 0.20614403 0.23167732 0.16166256 0.19427728]\n",
      "1.0\n",
      "[0.20636935 0.20654166 0.23355098 0.1600799  0.19345811]\n",
      "0.9999999999999999\n",
      "[0.22072498 0.20946184 0.2568745  0.11969607 0.1932426 ]\n",
      "0.9999999999999999\n",
      "[0.21018777 0.20681483 0.2375698  0.15086988 0.19455772]\n",
      "0.9999999999999999\n",
      "[0.20642003 0.20601484 0.23120548 0.16175166 0.19460799]\n",
      "1.0\n"
     ]
    }
   ],
   "source": [
    "for i in range(9):\n",
    "    print(np.array(w(mat,i)))\n",
    "    print(sum(w(mat,i)))"
   ]
  },
  {
   "cell_type": "markdown",
   "id": "90672171",
   "metadata": {},
   "source": [
    "# Ranking"
   ]
  },
  {
   "cell_type": "code",
   "execution_count": 6,
   "id": "54ee7cf1",
   "metadata": {},
   "outputs": [
    {
     "name": "stdout",
     "output_type": "stream",
     "text": [
      "[0.69675168 0.73732798 0.6578032  0.61066281]\n",
      "[0.52974684 0.56587553 0.50764768 0.44266878]\n",
      "[0.60321699 0.64558617 0.58911942 0.5208003 ]\n",
      "[0.45465766 0.48136889 0.42535986 0.36727081]\n",
      "[0.42240577 0.44515335 0.38963271 0.33340937]\n",
      "[0.35384745 0.37341883 0.31166612 0.2516043 ]\n",
      "[0.71371199 0.77217415 0.71314706 0.61840495]\n",
      "[0.60348677 0.64397195 0.58937356 0.52384184]\n",
      "[0.45233234 0.47773718 0.42365803 0.36792261]\n"
     ]
    }
   ],
   "source": [
    "for i in range(9):\n",
    "    print(np.array(Spos(mat,i)))"
   ]
  },
  {
   "cell_type": "code",
   "execution_count": 7,
   "id": "d4d744df",
   "metadata": {},
   "outputs": [
    {
     "name": "stdout",
     "output_type": "stream",
     "text": [
      "[0.64196145 0.6052735  0.63369107 0.74270287]\n",
      "[0.47025316 0.43412447 0.49235232 0.55733122]\n",
      "[0.54382433 0.51851271 0.57251933 0.63468366]\n",
      "[0.39824196 0.35449554 0.41322457 0.47687241]\n",
      "[0.36648041 0.31856594 0.37818333 0.44239241]\n",
      "[0.29213363 0.22804757 0.29701881 0.37119963]\n",
      "[0.63977222 0.62599871 0.68031799 0.755241  ]\n",
      "[0.54626868 0.52214373 0.57436996 0.63396033]\n",
      "[0.39785944 0.35611204 0.41280497 0.47391979]\n"
     ]
    }
   ],
   "source": [
    "for i in range(9):\n",
    "    print(np.array(Sneg(mat,i)))"
   ]
  },
  {
   "cell_type": "code",
   "execution_count": 8,
   "id": "82f373c4",
   "metadata": {},
   "outputs": [
    {
     "name": "stdout",
     "output_type": "stream",
     "text": [
      "[0.52046377 0.54917859 0.50933497 0.45121789]\n",
      "[0.52974684 0.56587553 0.50764768 0.44266878]\n",
      "[0.52588951 0.55458018 0.50714512 0.45072049]\n",
      "[0.53307288 0.57589349 0.50723558 0.43508116]\n",
      "[0.53544577 0.58287562 0.5074558  0.42976103]\n",
      "[0.54776751 0.62084736 0.51203193 0.40398637]\n",
      "[0.52731461 0.55227374 0.51177965 0.45019239]\n",
      "[0.52488272 0.55223676 0.50644627 0.45244503]\n",
      "[0.53203566 0.57292994 0.50648747 0.43704452]\n"
     ]
    }
   ],
   "source": [
    "visual = []\n",
    "for i in range(9):\n",
    "    print(np.array(S(mat,i)))\n",
    "    visual.append(S(mat,i))"
   ]
  },
  {
   "cell_type": "markdown",
   "id": "725a6cb5",
   "metadata": {},
   "source": [
    "# Result"
   ]
  },
  {
   "cell_type": "code",
   "execution_count": 9,
   "id": "223f8f79",
   "metadata": {},
   "outputs": [
    {
     "name": "stdout",
     "output_type": "stream",
     "text": [
      "Similarity no. 1 : [4 3 1 2]\n",
      "Similarity no. 2 : [4 3 1 2]\n",
      "Similarity no. 3 : [4 3 1 2]\n",
      "Similarity no. 4 : [4 3 1 2]\n",
      "Similarity no. 5 : [4 3 1 2]\n",
      "Similarity no. 6 : [4 3 1 2]\n",
      "Similarity no. 7 : [4 3 1 2]\n",
      "Similarity no. 8 : [4 3 1 2]\n",
      "Similarity no. 9 : [4 3 1 2]\n"
     ]
    }
   ],
   "source": [
    "for i in range(9):\n",
    "    print(\"Similarity no.\",i+1,\":\",np.array(rank(mat,i)))"
   ]
  },
  {
   "cell_type": "code",
   "execution_count": 10,
   "id": "948500ef",
   "metadata": {
    "scrolled": true
   },
   "outputs": [
    {
     "name": "stdout",
     "output_type": "stream",
     "text": [
      "Similarity no. 1 : 2\n",
      "Similarity no. 2 : 2\n",
      "Similarity no. 3 : 2\n",
      "Similarity no. 4 : 2\n",
      "Similarity no. 5 : 2\n",
      "Similarity no. 6 : 2\n",
      "Similarity no. 7 : 2\n",
      "Similarity no. 8 : 2\n",
      "Similarity no. 9 : 2\n"
     ]
    }
   ],
   "source": [
    " for i in range(9):\n",
    "    print(\"Similarity no.\",i+1,\":\",alt(mat,i))"
   ]
  },
  {
   "cell_type": "markdown",
   "id": "adf8c792",
   "metadata": {},
   "source": [
    "# Visualization"
   ]
  },
  {
   "cell_type": "code",
   "execution_count": 12,
   "id": "0d11d612",
   "metadata": {},
   "outputs": [
    {
     "name": "stderr",
     "output_type": "stream",
     "text": [
      "The PostScript backend does not support transparency; partially transparent artists will be rendered opaque.\n",
      "The PostScript backend does not support transparency; partially transparent artists will be rendered opaque.\n"
     ]
    },
    {
     "data": {
      "image/png": "[encoded data removed]",
      "text/plain": [
       "<Figure size 720x288 with 1 Axes>"
      ]
     },
     "metadata": {
      "needs_background": "light"
     },
     "output_type": "display_data"
    }
   ],
   "source": [
    "import matplotlib.pyplot as plt\n",
    "xaxis = [1,2,3,4,5,6,7,8,9]\n",
    "plt.plot(xaxis,[visual[i][0] for i in range(9)],\n",
    "         'go-', color='blue', label='x1', marker='o')\n",
    "plt.plot(xaxis,[visual[i][1] for i in range(9)],\n",
    "         'go-', color='green', label='x2', marker='o')\n",
    "plt.plot(xaxis,[visual[i][2] for i in range(9)],\n",
    "         'go-', color='red', label='x3', marker='o')\n",
    "plt.plot(xaxis,[visual[i][3] for i in range(9)],\n",
    "         'go-', color='cyan', label='x4', marker='o')\n",
    "plt.xticks(xaxis,[\"IM1\",\"IM2\",\"IM3\",\"IM4\",\"IM5\",\"IM6\",\"IM7\",\"IM8\",\"IM9\"])\n",
    "plt.xlabel(\"Similarity-based Information Measures\")\n",
    "plt.ylabel(\"Alternative Scores\")\n",
    "plt.title(\"The visualization of alternative scores Si and rank of combinations \\n using the similarity-based information measures IMi\")\n",
    "figure = plt.gcf()\n",
    "figure.set_size_inches(10,4)\n",
    "plt.legend(loc='upper left', ncol=5)\n",
    "plt.savefig('illustration.eps', format='eps')\n",
    "plt.show()"
   ]
  },
  {
   "cell_type": "code",
   "execution_count": null,
   "id": "a073ba64",
   "metadata": {},
   "outputs": [],
   "source": []
  }
 ],
 "metadata": {
  "kernelspec": {
   "display_name": "Python 3",
   "language": "python",
   "name": "python3"
  },
  "language_info": {
   "codemirror_mode": {
    "name": "ipython",
    "version": 3
   },
   "file_extension": ".py",
   "mimetype": "text/x-python",
   "name": "python",
   "nbconvert_exporter": "python",
   "pygments_lexer": "ipython3",
   "version": "3.8.8"
  }
 },
 "nbformat": 4,
 "nbformat_minor": 5
}
