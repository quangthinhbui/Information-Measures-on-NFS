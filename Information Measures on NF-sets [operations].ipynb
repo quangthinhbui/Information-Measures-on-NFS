{
 "cells": [
  {
   "cell_type": "markdown",
   "metadata": {},
   "source": [
    "# Dataset"
   ]
  },
  {
   "cell_type": "code",
   "execution_count": 1,
   "metadata": {},
   "outputs": [
    {
     "name": "stdout",
     "output_type": "stream",
     "text": [
      "[[0.3, 0.8, 0.4, 0.5], [0.8, 0.3, 0.5, 0.6], [0.6, 0.9, 0.7, 0.2], [0.5, 0.1, 0.4, 0.6]]\n",
      "[[0.8, 0.3, 0.2, 0.9], [0.2, 0.1, 0.5, 0.7], [0.4, 0.2, 0.8, 0.1], [0.6, 0.5, 0.3, 0.4]]\n"
     ]
    }
   ],
   "source": [
    "import numpy as np\n",
    "from bs import *\n",
    "\n",
    "x = read(\"test_a.txt\")\n",
    "y = read(\"test_b.txt\")\n",
    "print(x)\n",
    "print(y)"
   ]
  },
  {
   "cell_type": "markdown",
   "metadata": {},
   "source": [
    "# Subset"
   ]
  },
  {
   "cell_type": "code",
   "execution_count": 2,
   "metadata": {},
   "outputs": [
    {
     "name": "stdout",
     "output_type": "stream",
     "text": [
      "0\n",
      "0\n"
     ]
    }
   ],
   "source": [
    "print(issubset(x,y))\n",
    "print(issubset(y,x))"
   ]
  },
  {
   "cell_type": "markdown",
   "metadata": {},
   "source": [
    "# Complement"
   ]
  },
  {
   "cell_type": "code",
   "execution_count": 3,
   "metadata": {},
   "outputs": [
    {
     "name": "stdout",
     "output_type": "stream",
     "text": [
      "[[0.7, 0.5, 0.6, 0.8], [0.2, 0.6, 0.5, 0.3], [0.4, 0.2, 0.3, 0.9], [0.5, 0.6, 0.6, 0.1]]\n",
      "[[0.2, 0.9, 0.8, 0.3], [0.8, 0.7, 0.5, 0.1], [0.6, 0.1, 0.2, 0.2], [0.4, 0.4, 0.7, 0.5]]\n"
     ]
    }
   ],
   "source": [
    "print(complement(x))\n",
    "print(complement(y))"
   ]
  },
  {
   "cell_type": "markdown",
   "metadata": {},
   "source": [
    "# Intersection"
   ]
  },
  {
   "cell_type": "code",
   "execution_count": 4,
   "metadata": {},
   "outputs": [
    {
     "name": "stdout",
     "output_type": "stream",
     "text": [
      "[[0.3, 0.3, 0.4, 0.9], [0.2, 0.1, 0.5, 0.7], [0.4, 0.2, 0.8, 0.2], [0.5, 0.1, 0.4, 0.6]]\n"
     ]
    }
   ],
   "source": [
    "print(intersection(x,y))"
   ]
  },
  {
   "cell_type": "markdown",
   "metadata": {},
   "source": [
    "# Union"
   ]
  },
  {
   "cell_type": "code",
   "execution_count": 5,
   "metadata": {},
   "outputs": [
    {
     "name": "stdout",
     "output_type": "stream",
     "text": [
      "[[0.8, 0.8, 0.2, 0.5], [0.8, 0.3, 0.5, 0.6], [0.6, 0.9, 0.7, 0.1], [0.6, 0.5, 0.3, 0.4]]\n"
     ]
    }
   ],
   "source": [
    "print(union(x,y))"
   ]
  }
 ],
 "metadata": {
  "kernelspec": {
   "display_name": "Python 3",
   "language": "python",
   "name": "python3"
  },
  "language_info": {
   "codemirror_mode": {
    "name": "ipython",
    "version": 3
   },
   "file_extension": ".py",
   "mimetype": "text/x-python",
   "name": "python",
   "nbconvert_exporter": "python",
   "pygments_lexer": "ipython3",
   "version": "3.8.5"
  }
 },
 "nbformat": 4,
 "nbformat_minor": 5
}
